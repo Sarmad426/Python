{
 "cells": [
  {
   "cell_type": "code",
   "execution_count": 1,
   "metadata": {},
   "outputs": [
    {
     "ename": "",
     "evalue": "",
     "output_type": "error",
     "traceback": [
      "\u001b[1;31mThe Kernel crashed while executing code in the current cell or a previous cell. \n",
      "\u001b[1;31mPlease review the code in the cell(s) to identify a possible cause of the failure. \n",
      "\u001b[1;31mClick <a href='https://aka.ms/vscodeJupyterKernelCrash'>here</a> for more info. \n",
      "\u001b[1;31mView Jupyter <a href='command:jupyter.viewOutput'>log</a> for further details."
     ]
    }
   ],
   "source": [
    "import pandas as pd\n",
    "import numpy as np\n",
    "from nptyping import NDArray, Shape, Int64"
   ]
  },
  {
   "cell_type": "markdown",
   "metadata": {},
   "source": [
    "## Pandas DataFrame operations\n",
    "\n",
    "- add new column\n",
    "- - one column\n",
    "- - two or more column\n",
    "- delete column\n",
    "- change data type of column\n",
    "- map\n",
    "- apply\n",
    "- - on one column\n",
    "- - more than one column\n",
    "- concat\n",
    "- - axis \n",
    "- - -  axis = 0 (top to bottom)\n",
    "- - - axis = 1 (left to right)\n",
    "- describe dataframe\n",
    "- - `df.info()` # total index, columns names and data type, total fill cells\n",
    "- - `df.describe()` # mean std, min # statistical properties | apply only numeric columns "
   ]
  },
  {
   "cell_type": "code",
   "execution_count": 3,
   "metadata": {},
   "outputs": [
    {
     "ename": "NameError",
     "evalue": "name 'NDArray' is not defined",
     "output_type": "error",
     "traceback": [
      "\u001b[1;31m---------------------------------------------------------------------------\u001b[0m",
      "\u001b[1;31mNameError\u001b[0m                                 Traceback (most recent call last)",
      "Cell \u001b[1;32mIn[3], line 4\u001b[0m\n\u001b[0;32m      1\u001b[0m \u001b[38;5;28;01mimport\u001b[39;00m\u001b[38;5;250m \u001b[39m\u001b[38;5;21;01mnumpy\u001b[39;00m\u001b[38;5;250m \u001b[39m\u001b[38;5;28;01mas\u001b[39;00m\u001b[38;5;250m \u001b[39m\u001b[38;5;21;01mnp\u001b[39;00m\n\u001b[0;32m      3\u001b[0m TOTAL: \u001b[38;5;28mint\u001b[39m \u001b[38;5;241m=\u001b[39m \u001b[38;5;241m100\u001b[39m\n\u001b[1;32m----> 4\u001b[0m s1: \u001b[43mNDArray\u001b[49m[Shape[\u001b[38;5;28mstr\u001b[39m(TOTAL)], Int64] \u001b[38;5;241m=\u001b[39m np\u001b[38;5;241m.\u001b[39mrandom\u001b[38;5;241m.\u001b[39mrandint(\u001b[38;5;241m20\u001b[39m, \u001b[38;5;241m80\u001b[39m, TOTAL)\n\u001b[0;32m      5\u001b[0m s1\n",
      "\u001b[1;31mNameError\u001b[0m: name 'NDArray' is not defined"
     ]
    }
   ],
   "source": [
    "import numpy as np\n",
    "\n",
    "TOTAL: int = 100\n",
    "s1: NDArray[Shape[str(TOTAL)], Int64] = np.random.randint(20, 80, TOTAL)\n",
    "s1"
   ]
  },
  {
   "cell_type": "markdown",
   "metadata": {},
   "source": [
    "### Create a CSV file using DataFrame"
   ]
  },
  {
   "cell_type": "code",
   "execution_count": 65,
   "metadata": {},
   "outputs": [],
   "source": [
    "s1: pd.Series = pd.Series([1, 2, 3, 4, 5], name=\"Student Id\")\n",
    "s2: pd.Series = pd.Series([10, 20, 30, 40, 50], name=\"Score\")\n",
    "s3: pd.Series = pd.Series(\n",
    "    [\"Sarmad\", \"Hammad\", \"Akmal\", \"Fakhir\", \"Mustansar\"], name=\"Student Name\"\n",
    ")\n",
    "\n",
    "df1: pd.DataFrame = pd.DataFrame({\"Student Id\": s1, \"Student Name\": s2, \"Score\": s3})\n",
    "\n",
    "df1.to_csv(\"student.csv\")"
   ]
  },
  {
   "cell_type": "code",
   "execution_count": 66,
   "metadata": {},
   "outputs": [],
   "source": [
    "TOTAL: int = 10\n",
    "s1: NDArray[Shape[str(TOTAL) + \"5\"], Int64] = np.random.randint(10, 50, (TOTAL, 5))\n",
    "ss1: pd.DataFrame = pd.DataFrame(s1, columns=list(\"ABCDE\"))\n",
    "\n",
    "s2: NDArray[Shape[str(TOTAL) + \"5\"], Int64] = np.random.randint(50, 100, (TOTAL, 5))\n",
    "ss2: pd.DataFrame = pd.DataFrame(s2, columns=list(\"FGHIJ\"))\n",
    "\n",
    "s3: NDArray[Shape[str(TOTAL) + \"5\"], Int64] = np.random.randint(100, 150, (TOTAL, 5))\n",
    "ss3: pd.DataFrame = pd.DataFrame(s3, columns=list(\"KLMNO\"))"
   ]
  },
  {
   "cell_type": "code",
   "execution_count": null,
   "metadata": {},
   "outputs": [],
   "source": [
    "ss1"
   ]
  },
  {
   "cell_type": "code",
   "execution_count": null,
   "metadata": {},
   "outputs": [],
   "source": [
    "ss2"
   ]
  },
  {
   "cell_type": "code",
   "execution_count": null,
   "metadata": {},
   "outputs": [],
   "source": [
    "ss3"
   ]
  },
  {
   "cell_type": "markdown",
   "metadata": {},
   "source": [
    "## DataFrame Operations"
   ]
  },
  {
   "cell_type": "code",
   "execution_count": null,
   "metadata": {},
   "outputs": [],
   "source": [
    "df: pd.DataFrame = pd.concat([ss1])\n",
    "\n",
    "display(df.info())\n",
    "print(\"================================================================\")\n",
    "display(df.describe())\n",
    "print(\"================================================================\")\n",
    "display(df.head())\n",
    "print(\"================================================================\")\n",
    "display(df.tail())"
   ]
  },
  {
   "cell_type": "markdown",
   "metadata": {},
   "source": [
    "## Reading CSV file"
   ]
  },
  {
   "cell_type": "code",
   "execution_count": null,
   "metadata": {},
   "outputs": [],
   "source": [
    "df1: pd.DataFrame = pd.read_csv(\"./student.csv\")\n",
    "\n",
    "df1"
   ]
  },
  {
   "cell_type": "markdown",
   "metadata": {},
   "source": [
    "## Apply operations on columns\n",
    "\n",
    "- Extract one column from DataFrame\n",
    "    - `dataframe['column']`\n",
    "        - add new column to DataFrame\n",
    "        - get column with space between columns text `column name`\n",
    "    - `dataframe.column` \n",
    "        - cannot add column to DataFrame\n",
    "        - cannot access column with text space\n",
    "- Extract two or more columns from DataFrame\n",
    "    - `dataframe['column1','column2']`\n",
    "        - pass list into DataFrame"
   ]
  },
  {
   "cell_type": "code",
   "execution_count": null,
   "metadata": {},
   "outputs": [],
   "source": [
    "# Top to bottom\n",
    "df[\"B\"]"
   ]
  },
  {
   "cell_type": "code",
   "execution_count": null,
   "metadata": {},
   "outputs": [],
   "source": [
    "df.C"
   ]
  },
  {
   "cell_type": "code",
   "execution_count": null,
   "metadata": {},
   "outputs": [],
   "source": [
    "# Extract multiple columns\n",
    "df[[\"A\", \"B\", \"C\"]]"
   ]
  },
  {
   "cell_type": "markdown",
   "metadata": {},
   "source": [
    "## Add new column\n",
    "\n",
    "- Addition operation on column"
   ]
  },
  {
   "cell_type": "code",
   "execution_count": null,
   "metadata": {},
   "outputs": [],
   "source": [
    "# Create a new column\n",
    "df[\"Total\"] = df[\"A\"] + df[\"B\"] + df[\"C\"] + df[\"D\"] + df[\"E\"]\n",
    "df"
   ]
  },
  {
   "cell_type": "code",
   "execution_count": null,
   "metadata": {},
   "outputs": [],
   "source": [
    "# Updating a Column\n",
    "BONUS_MARKS = 12\n",
    "\n",
    "df[\"Total\"] += BONUS_MARKS\n",
    "df"
   ]
  },
  {
   "cell_type": "code",
   "execution_count": null,
   "metadata": {},
   "outputs": [],
   "source": [
    "# Deleting a column\n",
    "\n",
    "del df[\"Total\"]\n",
    "\n",
    "df"
   ]
  },
  {
   "cell_type": "code",
   "execution_count": null,
   "metadata": {},
   "outputs": [],
   "source": [
    "# We cannot insert update and delete a column using the . method.\n",
    "\n",
    "# df.total = 30  (Cannot create a new column)\n",
    "display(df)\n",
    "\n",
    "# del df.E  (Cannot delete a column)\n",
    "\n",
    "display(df)"
   ]
  },
  {
   "cell_type": "code",
   "execution_count": null,
   "metadata": {},
   "outputs": [],
   "source": [
    "# Arithmetic operations on columns\n",
    "display(df)\n",
    "\n",
    "df[\"B\"] + 12  # Adding 12 to every columns"
   ]
  },
  {
   "cell_type": "markdown",
   "metadata": {},
   "source": [
    "## Creating a Student Result Card Template"
   ]
  },
  {
   "cell_type": "code",
   "execution_count": null,
   "metadata": {},
   "outputs": [],
   "source": [
    "TOTAL: int = 10\n",
    "\n",
    "scores: NDArray[Shape[str(TOTAL) + \"5\"], Int64] = np.random.randint(30, 100, (TOTAL, 5))\n",
    "\n",
    "result_card: pd.DataFrame = pd.DataFrame(\n",
    "    scores, columns=[\"English\", \"Computer\", \"Math\", \"Physics\", \"Lab\"]\n",
    ")\n",
    "result_card"
   ]
  },
  {
   "cell_type": "code",
   "execution_count": null,
   "metadata": {},
   "outputs": [],
   "source": [
    "# Adding Obtained Column\n",
    "\n",
    "\n",
    "result_card[\"Obtained\"] = (\n",
    "    result_card[\"English\"]\n",
    "    + result_card[\"Computer\"]\n",
    "    + result_card[\"Lab\"]\n",
    "    + result_card[\"Math\"]\n",
    "    + result_card[\"Physics\"]\n",
    ")\n",
    "\n",
    "result_card"
   ]
  },
  {
   "cell_type": "code",
   "execution_count": null,
   "metadata": {},
   "outputs": [],
   "source": [
    "# Creating a Grade Column\n",
    "TOTAL = 500\n",
    "\n",
    "result_card[\"Percentage\"] = (result_card[\"Obtained\"] / TOTAL) * 100\n",
    "\n",
    "result_card"
   ]
  },
  {
   "cell_type": "code",
   "execution_count": 83,
   "metadata": {},
   "outputs": [],
   "source": [
    "# Checking Grade\n",
    "\n",
    "\n",
    "def grade(score: float) -> str:\n",
    "    \"\"\"\n",
    "    Returns grade based on marks\n",
    "    \"\"\"\n",
    "    if score > 90:\n",
    "        return \"A+\"\n",
    "    if score > 80:\n",
    "        return \"A\"\n",
    "    elif score >= 75:\n",
    "        return \"B+\"\n",
    "    elif score >= 70:\n",
    "        return \"B\"\n",
    "    elif score >= 60:\n",
    "        return \"C\"\n",
    "    elif score >= 50:\n",
    "        return \"D\"\n",
    "    elif score >= 33:\n",
    "        return \"E\"\n",
    "    else:\n",
    "        return \"F\""
   ]
  },
  {
   "cell_type": "code",
   "execution_count": null,
   "metadata": {},
   "outputs": [],
   "source": [
    "# Creating a Grade Column\n",
    "\n",
    "result_card[\"Grade\"] = result_card[\"Percentage\"].apply(grade)\n",
    "\n",
    "result_card"
   ]
  },
  {
   "cell_type": "code",
   "execution_count": null,
   "metadata": {},
   "outputs": [],
   "source": [
    "# Adding Remarks using a dictionary\n",
    "\n",
    "remarks: dict[str, str] = {\n",
    "    \"A+\": \"Excellent\",\n",
    "    \"A\": \"Great\",\n",
    "    \"B+\": \"Very Good\",\n",
    "    \"B\": \"Good\",\n",
    "    \"C\": \"Fair\",\n",
    "    \"D\": \"Not bad\",\n",
    "    \"E\": \"Poor\",\n",
    "    \"F\": \"Fail\",\n",
    "}\n",
    "\n",
    "result_card[\"Remarks\"] = result_card[\"Grade\"].map(remarks)\n",
    "\n",
    "result_card"
   ]
  },
  {
   "cell_type": "code",
   "execution_count": 86,
   "metadata": {},
   "outputs": [],
   "source": [
    "# Converting to a CSV file\n",
    "\n",
    "result_card.to_csv(\"result_card.csv\")"
   ]
  },
  {
   "cell_type": "code",
   "execution_count": null,
   "metadata": {},
   "outputs": [],
   "source": [
    "# Slicing\n",
    "\n",
    "result_card.iloc[1:11, 1:3]\n",
    "\n",
    "# Where 1:11 are the rows\n",
    "# 1:3 are the columns"
   ]
  },
  {
   "cell_type": "code",
   "execution_count": null,
   "metadata": {},
   "outputs": [],
   "source": [
    "result_card.loc[1:11, \"Computer\":\"Physics\"]"
   ]
  },
  {
   "cell_type": "markdown",
   "metadata": {},
   "source": [
    "## Type Casting on Column names\n",
    "- astype\n",
    "- apply\n",
    "    - datatype name (str, int, list)\n",
    "    - function name (cell value): transformation in function body"
   ]
  },
  {
   "cell_type": "code",
   "execution_count": null,
   "metadata": {},
   "outputs": [],
   "source": [
    "result_card.info()"
   ]
  },
  {
   "cell_type": "code",
   "execution_count": null,
   "metadata": {},
   "outputs": [],
   "source": [
    "result_card[\"Percentage\"] = result_card[\"Percentage\"].astype(np.int32)\n",
    "\n",
    "result_card.info()"
   ]
  }
 ],
 "metadata": {
  "kernelspec": {
   "display_name": "venv",
   "language": "python",
   "name": "python3"
  },
  "language_info": {
   "codemirror_mode": {
    "name": "ipython",
    "version": 3
   },
   "file_extension": ".py",
   "mimetype": "text/x-python",
   "name": "python",
   "nbconvert_exporter": "python",
   "pygments_lexer": "ipython3",
   "version": "3.13.1"
  }
 },
 "nbformat": 4,
 "nbformat_minor": 2
}
